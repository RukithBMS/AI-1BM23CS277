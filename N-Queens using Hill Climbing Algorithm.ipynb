{
 "cells": [
  {
   "cell_type": "code",
   "execution_count": 1,
   "id": "8118c71b-3d69-4ff6-8637-506116ff16d7",
   "metadata": {},
   "outputs": [
    {
     "name": "stdout",
     "output_type": "stream",
     "text": [
      "Solution found: [2, 0, 3, 1]\n"
     ]
    }
   ],
   "source": [
    "import random\n",
    "\n",
    "# Heuristic function: number of attacking pairs\n",
    "def heuristic(state):\n",
    "    conflicts = 0\n",
    "    n = len(state)\n",
    "    for i in range(n):\n",
    "        for j in range(i+1, n):\n",
    "            # same row\n",
    "            if state[i] == state[j]:\n",
    "                conflicts += 1\n",
    "            # diagonal attack\n",
    "            if abs(state[i] - state[j]) == abs(i - j):\n",
    "                conflicts += 1\n",
    "    return conflicts\n",
    "\n",
    "\n",
    "# Generate neighbors by moving one queen to another row in its column\n",
    "def generate_neighbors(state):\n",
    "    neighbors = []\n",
    "    n = len(state)\n",
    "    for col in range(n):\n",
    "        for row in range(n):\n",
    "            if row != state[col]:\n",
    "                new_state = state.copy()\n",
    "                new_state[col] = row\n",
    "                neighbors.append(new_state)\n",
    "    return neighbors\n",
    "\n",
    "\n",
    "# Hill climbing search\n",
    "def hill_climbing(n=4, max_restarts=1000):\n",
    "    for restart in range(max_restarts):\n",
    "        # Random initial state\n",
    "        current = [random.randint(0, n-1) for _ in range(n)]\n",
    "        \n",
    "        while True:\n",
    "            current_h = heuristic(current)\n",
    "            if current_h == 0:\n",
    "                return current  # solution found\n",
    "            \n",
    "            neighbors = generate_neighbors(current)\n",
    "            best = min(neighbors, key=heuristic)\n",
    "            best_h = heuristic(best)\n",
    "            \n",
    "            if best_h >= current_h:\n",
    "                break  # local maximum reached\n",
    "            current = best\n",
    "    return None  # No solution found within restarts\n",
    "\n",
    "\n",
    "# Run the algorithm\n",
    "solution = hill_climbing()\n",
    "\n",
    "if solution:\n",
    "    print(\"Solution found:\", solution)\n",
    "else:\n",
    "    print(\"No solution found\")\n"
   ]
  },
  {
   "cell_type": "code",
   "execution_count": null,
   "id": "1f38b19a-fbb2-496a-a7b0-974646935d2b",
   "metadata": {},
   "outputs": [],
   "source": []
  }
 ],
 "metadata": {
  "kernelspec": {
   "display_name": "Python 3 (ipykernel)",
   "language": "python",
   "name": "python3"
  },
  "language_info": {
   "codemirror_mode": {
    "name": "ipython",
    "version": 3
   },
   "file_extension": ".py",
   "mimetype": "text/x-python",
   "name": "python",
   "nbconvert_exporter": "python",
   "pygments_lexer": "ipython3",
   "version": "3.12.7"
  }
 },
 "nbformat": 4,
 "nbformat_minor": 5
}
