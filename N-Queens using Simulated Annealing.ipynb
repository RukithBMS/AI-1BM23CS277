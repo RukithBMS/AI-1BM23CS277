{
 "cells": [
  {
   "cell_type": "code",
   "execution_count": 2,
   "id": "36a40559-ebf9-4030-b979-8792bf6e1197",
   "metadata": {},
   "outputs": [
    {
     "name": "stdout",
     "output_type": "stream",
     "text": [
      "Solution found: [2, 0, 3, 1]\n"
     ]
    }
   ],
   "source": [
    "import random, math\n",
    "\n",
    "def heuristic(state):\n",
    "    \"\"\"Count number of attacking queen pairs.\"\"\"\n",
    "    conflicts = 0\n",
    "    n = len(state)\n",
    "    for i in range(n):\n",
    "        for j in range(i+1, n):\n",
    "            if state[i] == state[j] or abs(state[i] - state[j]) == abs(i - j):\n",
    "                conflicts += 1\n",
    "    return conflicts\n",
    "\n",
    "def random_neighbor(state):\n",
    "    \"\"\"Move one queen in a random column to a random row.\"\"\"\n",
    "    n = len(state)\n",
    "    new_state = state.copy()\n",
    "    col = random.randint(0, n-1)\n",
    "    new_row = random.randint(0, n-1)\n",
    "    while new_row == state[col]:\n",
    "        new_row = random.randint(0, n-1)\n",
    "    new_state[col] = new_row\n",
    "    return new_state\n",
    "\n",
    "def simulated_annealing(n=8, max_steps=100000, initial_temp=100, cooling=0.99):\n",
    "    # Start with a random state\n",
    "    current = [random.randint(0, n-1) for _ in range(n)]\n",
    "    current_h = heuristic(current)\n",
    "    T = initial_temp\n",
    "\n",
    "    for step in range(max_steps):\n",
    "        if current_h == 0:\n",
    "            return current  # solution found\n",
    "\n",
    "        neighbor = random_neighbor(current)\n",
    "        neighbor_h = heuristic(neighbor)\n",
    "        deltaE = neighbor_h - current_h\n",
    "\n",
    "        if deltaE < 0 or random.random() < math.exp(-deltaE / T):\n",
    "            current, current_h = neighbor, neighbor_h\n",
    "\n",
    "        T *= cooling\n",
    "        if T < 1e-5:  # Temperature too low\n",
    "            break\n",
    "\n",
    "    return None  # no solution found within max_steps\n",
    "\n",
    "# Example: Solve 8-Queens\n",
    "solution = simulated_annealing(n=4)\n",
    "\n",
    "if solution:\n",
    "    print(\"Solution found:\", solution)\n",
    "else:\n",
    "    print(\"No solution found\")\n"
   ]
  },
  {
   "cell_type": "code",
   "execution_count": null,
   "id": "86e810fe-9078-496d-918a-3bf11750e102",
   "metadata": {},
   "outputs": [],
   "source": []
  }
 ],
 "metadata": {
  "kernelspec": {
   "display_name": "Python 3 (ipykernel)",
   "language": "python",
   "name": "python3"
  },
  "language_info": {
   "codemirror_mode": {
    "name": "ipython",
    "version": 3
   },
   "file_extension": ".py",
   "mimetype": "text/x-python",
   "name": "python",
   "nbconvert_exporter": "python",
   "pygments_lexer": "ipython3",
   "version": "3.12.7"
  }
 },
 "nbformat": 4,
 "nbformat_minor": 5
}
